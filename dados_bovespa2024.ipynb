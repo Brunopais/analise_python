{
  "nbformat": 4,
  "nbformat_minor": 0,
  "metadata": {
    "colab": {
      "provenance": [],
      "toc_visible": true,
      "authorship_tag": "ABX9TyOzLslFoyoMC8841g8F9Dhp",
      "include_colab_link": true
    },
    "kernelspec": {
      "name": "python3",
      "display_name": "Python 3"
    },
    "language_info": {
      "name": "python"
    }
  },
  "cells": [
    {
      "cell_type": "markdown",
      "metadata": {
        "id": "view-in-github",
        "colab_type": "text"
      },
      "source": [
        "<a href=\"https://colab.research.google.com/github/Brunopais/analise_python/blob/main/dados_bovespa2024.ipynb\" target=\"_parent\"><img src=\"https://colab.research.google.com/assets/colab-badge.svg\" alt=\"Open In Colab\"/></a>"
      ]
    },
    {
      "cell_type": "code",
      "execution_count": null,
      "metadata": {
        "id": "0wKf4RdgMjS2"
      },
      "outputs": [],
      "source": [
        "#pegar historico de dados em site confiavel B3\n",
        "#layout bovesp\n",
        "#extrair arquivos\n",
        "#importando as bibliotecas\n",
        "import pandas as pd\n"
      ]
    },
    {
      "cell_type": "code",
      "source": [
        "def read_files(path, name_file, year_date, type_file):\n",
        "    _file = f'{path}{name_file}{year_date}.{type_file}'\n",
        "    colspecs = [(2,10),\n",
        "                (10,12),\n",
        "                (12,24),\n",
        "                (27,39),\n",
        "                (56,69),\n",
        "                (69,82),\n",
        "                (82,95),\n",
        "                (108,121),\n",
        "                (152,170),\n",
        "                (170,188)\n",
        "\n",
        "    ]\n",
        "\n",
        "    names = ['data_pregao', 'codbdi', 'sigla_acao','nome_acao','preco_abertura','preco_maximo','preco_minimo','preco_fechamento','qtd_negociado','volume_negocio']\n",
        "\n",
        "    df = pd.read_fwf('/content/drive/MyDrive/Colab Notebooks/COTAHIST_A2023.TXT', colspecs = colspecs, names = names, skiprows = 1)\n",
        "\n",
        "\n",
        "    return df"
      ],
      "metadata": {
        "id": "0rPYuX11VJ0d"
      },
      "execution_count": null,
      "outputs": []
    },
    {
      "cell_type": "code",
      "source": [
        "#filtrar açoes\n",
        "def filter_stocks(df):\n",
        "    df = df [df['codbdi']== 2]\n",
        "    df = df.drop(['codbdi'], axis=1)\n",
        "\n",
        "    return df\n"
      ],
      "metadata": {
        "id": "4-f7SkKyz2iT"
      },
      "execution_count": null,
      "outputs": []
    },
    {
      "cell_type": "code",
      "source": [
        "#ajuste campo de data\n",
        "\n",
        "def parse_date(df):\n",
        "    df['data_pregao'] = pd.to_datetime(df['data_pregao'], format = '%Y%m%d')\n",
        "\n",
        "    return df"
      ],
      "metadata": {
        "id": "7x0sCctG1sKN"
      },
      "execution_count": null,
      "outputs": []
    },
    {
      "cell_type": "code",
      "source": [
        "#ajuste dos campos numericos\n",
        "def parse_values(df):\n",
        "    df['preco_abertura'] = (df['preco_abertura']/100).astype(float)\n",
        "    df['preco_maximo'] = (df['preco_maximo']/100).astype(float)\n",
        "    df['preco_minimo'] = (df['preco_minimo']/100).astype(float)\n",
        "    df['preco_fechamento'] = (df['preco_fechamento']/100).astype(float)\n",
        "\n",
        "    return df"
      ],
      "metadata": {
        "id": "qSHQ9Z9e2TD2"
      },
      "execution_count": null,
      "outputs": []
    },
    {
      "cell_type": "code",
      "source": [
        "#juntando os arquivos\n",
        "\n",
        "def concat_files(path, name_file, year_date, type_file, final_file):\n",
        "    for i, y in enumerate(year_date):\n",
        "        df = read_files(path, name_file, y, type_file)\n",
        "        df = filter_stocks(df)\n",
        "        df = parse_date(df)\n",
        "        df = parse_values(df)\n",
        "\n",
        "        if i == 0:\n",
        "            df_final = df\n",
        "        else:\n",
        "            df_final = pd.concat([df_final, df])\n",
        "\n",
        "    df_final.to_csv(f'{path}//{final_file}', index = False)"
      ],
      "metadata": {
        "id": "fqiO5Mi0nzdf"
      },
      "execution_count": null,
      "outputs": []
    },
    {
      "cell_type": "code",
      "source": [
        "#executando programa de etl\n",
        "year_date = ['2023']\n",
        "\n",
        "path=f'/content/drive/MyDrive/Colab Notebooks'\n",
        "name_file = 'COTAHIST_A'\n",
        "type_file = 'txt'\n",
        "final_file = 'all_bovespa.csv'\n",
        "concat_files(path, name_file, year_date, type_file, final_file)\n"
      ],
      "metadata": {
        "id": "AmdkE7mc1ntr"
      },
      "execution_count": null,
      "outputs": []
    }
  ]
}